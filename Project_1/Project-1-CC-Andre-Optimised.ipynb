{
 "cells": [
  {
   "cell_type": "markdown",
   "metadata": {},
   "source": [
    "<img src=\"http://imgur.com/1ZcRyrc.png\" style=\"float: left; margin: 20px; height: 55px\">\n",
    "\n",
    "# Project 1: Python Coding Exercises\n",
    "\n",
    "_Authors: Joseph Nelson (DC) _\n",
    "\n",
    "---"
   ]
  },
  {
   "cell_type": "markdown",
   "metadata": {},
   "source": [
    "The following code challenges are drawn from common exercises used in technical interviews.\n",
    "\n",
    "Please note that there may be several ways to approach each challenge. If you get stuck, try mapping out your approach in pseudocode first. Finally, while solutions to problems like these may be found online, remember that if you copy/paste code that you can't explain, you'll be missing out on the point of the project. The only way to truly learn a new skill is through practice, trial, and error - we can only help you improve by understanding where you are having trouble."
   ]
  },
  {
   "cell_type": "markdown",
   "metadata": {},
   "source": [
    "### Challenge 1: Largest Palindrome\n",
    "A palindromic number reads the same both ways. For example, 1234321 is a palindrome. The largest palindrome made from the product of two two-digit numbers is 9009 = 91 × 99. Find the largest palindrome made from the product of two three-digit numbers. Afterward, write a brief explanation walking through your code's logic in markdown."
   ]
  },
  {
   "cell_type": "code",
   "execution_count": 14,
   "metadata": {},
   "outputs": [
    {
     "name": "stdout",
     "output_type": "stream",
     "text": [
      "Highest palindromic number is: 906609\n"
     ]
    }
   ],
   "source": [
    "max_value = 0 \n",
    "\n",
    "for x in range(100, 1000):\n",
    "    for y in range(100, 1000):\n",
    "        prod = x*y\n",
    "        if str(prod) == str(prod)[::-1]: \n",
    "            if int(prod) > max_value:\n",
    "                max_value = prod\n",
    "                \n",
    "print(\"Highest palindromic number is:\", max_value)\n"
   ]
  },
  {
   "cell_type": "markdown",
   "metadata": {},
   "source": [
    "\n",
    "### Challenge 2: Summation of Primes\n",
    "The sum of the primes below 10 is 2 + 3 + 5 + 7 = 17. Find the sum of all the primes below 2,000. Afterward, write a brief explanation walking through your code's logic in markdown."
   ]
  },
  {
   "cell_type": "code",
   "execution_count": 9,
   "metadata": {},
   "outputs": [
    {
     "name": "stdout",
     "output_type": "stream",
     "text": [
      "total prime SUM:  277050\n"
     ]
    }
   ],
   "source": [
    "# Expected result is: \"The SUM of primes is: 277050\"\n",
    "\n",
    "def prime_num(n):\n",
    "    for num in range(2, n):\n",
    "        if(n % num == 0):\n",
    "            return False\n",
    "    return True     \n",
    "\n",
    "primes_sum = 0\n",
    "\n",
    "for i in range(2, 2000):\n",
    "    if (prime_num(i)):\n",
    "        primes_sum += i\n",
    "\n",
    "print(\"total prime SUM: \", primes_sum)\n",
    "\n"
   ]
  },
  {
   "cell_type": "markdown",
   "metadata": {},
   "source": [
    "### Challenge 3: Multiples of 3 and 5\n",
    "If we list all of the natural numbers below 10 that are multiples of 3 or 5, we get 3, 5, 6, and 9. The sum of these multiples is 23. Find the sum of all the multiples of 3 and 5 below 1,000. Afterward, write a brief explanation walking through your code's logic in markdown."
   ]
  },
  {
   "cell_type": "code",
   "execution_count": 13,
   "metadata": {},
   "outputs": [
    {
     "name": "stdout",
     "output_type": "stream",
     "text": [
      "Total SUM is:  233168\n"
     ]
    }
   ],
   "source": [
    "my_count = 0\n",
    "\n",
    "for num in range(1, 1000):  # loop all numbers between 1 and 999 (inclusive)\n",
    "    if (num % 3 == 0) or (num % 5 == 0):\n",
    "        my_count += num\n",
    "\n",
    "print(\"Total SUM is: \", my_count)\n",
    "\n"
   ]
  },
  {
   "cell_type": "markdown",
   "metadata": {},
   "source": [
    "### Challenge 4: String Compressor\n",
    "Implement a method to perform basic string compression using the counts of repeated characters. (This is called run-length encoding.) For example, the string \"aabcccccaaa\" would become a2b1c5a3. If the “compressed” string would not become smaller than the original string, your method should return the original string. You can assume the string has only uppercase and lowercase letters (a–z). Specify whether your solution is case sensitive or case insensitive and what you would need to change to make it the other. Afterward, write a brief explanation walking through your code's logic in markdown."
   ]
  },
  {
   "cell_type": "code",
   "execution_count": 162,
   "metadata": {},
   "outputs": [
    {
     "name": "stdout",
     "output_type": "stream",
     "text": [
      "aabcccccaaa -> a2b1c5a3\n",
      "Kaboooooooomm -> K1a1b1o8m2\n",
      "aaaaaaaaaaaaaaaaaaaaaaaaaaa -> a27\n",
      "AaBbCCCaaa -> AaBbCCCaaa (not modified)\n",
      "abc -> abc (not modified)\n"
     ]
    }
   ],
   "source": [
    "# I am assuming that decoding of RLE is not part of this exercise.\n",
    "# Encoding is CASE-SENSITIVE.\n",
    "\n",
    "# Expected output result is:\n",
    "# aabcccccaaa -> a2b1c5a3\n",
    "# Kaboooooooomm -> K1a1b1o8m2\n",
    "# aaaaaaaaaaaaaaaaaaaaaaaaaaa -> a27\n",
    "# AaBbCCCaaa -> AaBbCCCaaa (not modified)\n",
    "# abc -> abc (not modified)\n",
    "\n",
    "def rle_encode(input_text):\n",
    "    '''Docstring here'''\n",
    "\n",
    "    input_text = str(input_text)  # input validation\n",
    "    encoded_list = []\n",
    "    encoded_str = \"\"\n",
    "    count = 1\n",
    "    char = \"\"\n",
    "    aux_str = \"\"  # Because strings are immutable, we'll need this variable\n",
    "\n",
    "    for i in input_text:\n",
    "\n",
    "        if i != char:\n",
    "            if char:\n",
    "                entry = [char, count]\n",
    "                encoded_list.append(entry)\n",
    "            count = 1\n",
    "            char = i\n",
    "        else:                          # I don't know if its because its me but just a point to note:\n",
    "            count += 1                 # Remember to keep the whitespace consistent with the if-else conditions\n",
    "    else:\n",
    "        entry = [char, count]\n",
    "        encoded_list.append(entry)\n",
    "\n",
    "    for item in encoded_list:\n",
    "        encoded_str += str(item)\n",
    "\n",
    "    # This code removes unwanted chars from the string\n",
    "    for item in encoded_str:\n",
    "        if item not in \"[]', \":\n",
    "            aux_str += item\n",
    "\n",
    "    # This code prevents a longer encoded string than the original\n",
    "    for item in encoded_str:\n",
    "        if len(aux_str) >= len(input_text):\n",
    "            aux_str = input_text + \" (not modified)\"\n",
    "\n",
    "    # return encoded string\n",
    "    return aux_str\n",
    "# EOF rle_encode()\n",
    "\n",
    "\n",
    "# Strings to Encode\n",
    "inputs_list = [\"aabcccccaaa\",\n",
    "               \"Kaboooooooomm\",\n",
    "               \"aaaaaaaaaaaaaaaaaaaaaaaaaaa\",\n",
    "               \"AaBbCCCaaa\",\n",
    "               \"abc\"]\n",
    "\n",
    "for input in inputs_list:   # don't use input: it's a python function as well!\n",
    "    print(input, \"->\", rle_encode(input))\n",
    "# EOF\n"
   ]
  },
  {
   "cell_type": "markdown",
   "metadata": {},
   "source": [
    "### *BONUS* Challenge: FizzBuzz\n",
    "Write a program that prints all of the numbers from 1 to 100. For multiples of 3, instead of the number, print \"Fizz;\" for multiples of 5, print \"Buzz.\" For numbers that are multiples of both 3 and 5, print \"FizzBuzz.\" Afterward, write a brief explanation walking through your code's logic in markdown."
   ]
  },
  {
   "cell_type": "code",
   "execution_count": 12,
   "metadata": {},
   "outputs": [
    {
     "name": "stdout",
     "output_type": "stream",
     "text": [
      "1\n",
      "2\n",
      "Fizz\n",
      "4\n",
      "Buzz\n",
      "Fizz\n",
      "7\n",
      "8\n",
      "Fizz\n",
      "Buzz\n",
      "11\n",
      "Fizz\n",
      "13\n",
      "14\n",
      "FizzBuzz\n",
      "16\n",
      "17\n",
      "Fizz\n",
      "19\n",
      "Buzz\n",
      "Fizz\n",
      "22\n",
      "23\n",
      "Fizz\n",
      "Buzz\n",
      "26\n",
      "Fizz\n",
      "28\n",
      "29\n",
      "FizzBuzz\n",
      "31\n",
      "32\n",
      "Fizz\n",
      "34\n",
      "Buzz\n",
      "Fizz\n",
      "37\n",
      "38\n",
      "Fizz\n",
      "Buzz\n",
      "41\n",
      "Fizz\n",
      "43\n",
      "44\n",
      "FizzBuzz\n",
      "46\n",
      "47\n",
      "Fizz\n",
      "49\n",
      "Buzz\n",
      "Fizz\n",
      "52\n",
      "53\n",
      "Fizz\n",
      "Buzz\n",
      "56\n",
      "Fizz\n",
      "58\n",
      "59\n",
      "FizzBuzz\n",
      "61\n",
      "62\n",
      "Fizz\n",
      "64\n",
      "Buzz\n",
      "Fizz\n",
      "67\n",
      "68\n",
      "Fizz\n",
      "Buzz\n",
      "71\n",
      "Fizz\n",
      "73\n",
      "74\n",
      "FizzBuzz\n",
      "76\n",
      "77\n",
      "Fizz\n",
      "79\n",
      "Buzz\n",
      "Fizz\n",
      "82\n",
      "83\n",
      "Fizz\n",
      "Buzz\n",
      "86\n",
      "Fizz\n",
      "88\n",
      "89\n",
      "FizzBuzz\n",
      "91\n",
      "92\n",
      "Fizz\n",
      "94\n",
      "Buzz\n",
      "Fizz\n",
      "97\n",
      "98\n",
      "Fizz\n",
      "Buzz\n"
     ]
    }
   ],
   "source": [
    "for i in range(1, 101): \n",
    "    print(\"Fizz\"*(i%3==0)+\"Buzz\"*(i%5==0) or str(i))\n",
    "\n"
   ]
  },
  {
   "cell_type": "code",
   "execution_count": null,
   "metadata": {},
   "outputs": [],
   "source": []
  }
 ],
 "metadata": {
  "anaconda-cloud": {},
  "kernelspec": {
   "display_name": "Python 3",
   "language": "python",
   "name": "python3"
  },
  "language_info": {
   "codemirror_mode": {
    "name": "ipython",
    "version": 3
   },
   "file_extension": ".py",
   "mimetype": "text/x-python",
   "name": "python",
   "nbconvert_exporter": "python",
   "pygments_lexer": "ipython3",
   "version": "3.6.4"
  }
 },
 "nbformat": 4,
 "nbformat_minor": 2
}
